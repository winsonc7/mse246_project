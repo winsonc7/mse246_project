{
  "nbformat": 4,
  "nbformat_minor": 0,
  "metadata": {
    "colab": {
      "provenance": []
    },
    "kernelspec": {
      "name": "python3",
      "display_name": "Python 3"
    },
    "language_info": {
      "name": "python"
    }
  },
  "cells": [
    {
      "cell_type": "code",
      "execution_count": 7,
      "metadata": {
        "id": "_BfSoR8albIW"
      },
      "outputs": [],
      "source": [
        "import pandas as pd\n",
        "import numpy as np\n",
        "from collections import defaultdict\n",
        "from google.colab import files"
      ]
    },
    {
      "cell_type": "code",
      "source": [
        "df = pd.read_excel(\"SBA Loan data .xlsx\")\n",
        "# remove loans labeled Exempt and Canceled, and remove nan values\n",
        "df = df[df.LoanStatus != \"EXEMPT\"]\n",
        "df = df[df.LoanStatus != \"CANCLD\"]\n",
        "df = df[df['LoanStatus'].notna()]\n",
        "# drop useless columns\n",
        "df = df.drop(columns=['Program', 'BorrName', 'BorrStreet','BorrCity','CDC_Name','CDC_Street','CDC_City','NaicsDescription','ProjectCounty','ThirdPartyLender_Name','ThirdPartyLender_City','ThirdPartyLender_State'])\n",
        "# modify NaicsCode to only include the largest two-digit sector code\n",
        "df['NaicsCode'] = df['NaicsCode'].apply(lambda x: str(x)[:2] if not pd.isnull(x) else \"None\")"
      ],
      "metadata": {
        "id": "uvnjkRzZlqWL",
        "colab": {
          "base_uri": "https://localhost:8080/"
        },
        "outputId": "c6476d49-9a29-4970-813e-9d7aba1d8c96"
      },
      "execution_count": 8,
      "outputs": [
        {
          "output_type": "stream",
          "name": "stderr",
          "text": [
            "/usr/local/lib/python3.10/dist-packages/openpyxl/worksheet/_reader.py:329: UserWarning: Unknown extension is not supported and will be removed\n",
            "  warn(msg)\n"
          ]
        }
      ]
    },
    {
      "cell_type": "code",
      "source": [
        "'''\n",
        "Feature engineering based on data already provided\n",
        "'''\n",
        "# Indicator: whether term is integer multiple of a year (1: Yes, 0: No)\n",
        "df[\"Term Multiple\"] =  df['TermInMonths'].apply(lambda x: 0 if int(x) % 12 != 0 else 1)\n",
        "\n",
        "# Indicator: CDC state equals borrower state (1: equals, 0: not equal or missing)\n",
        "df[\"Same State\"] = (df['BorrState'] == df['CDC_State']).astype(int)\n",
        "# drop CDC state\n",
        "df = df.drop(columns=['CDC_State'])\n",
        "\n",
        "# Indicator: Locate in CA (1: Yes, 0: No)\n",
        "df['In CA'] = df['BorrState'].apply(lambda x: 0 if x != \"CA\" else 1)\n",
        "\n",
        "# Indicator: There's 3rd party lender (1: Yes, 0: No)\n",
        "df['ThirdPartyDollars'] = df['ThirdPartyDollars'].fillna(0) # if there's no third party, fill in 0 amount\n",
        "df['Is ThirdParty'] = df['ThirdPartyDollars'].apply(lambda x: 0 if x == 0 else 1)\n",
        "\n",
        "# Indicator: Interest rate is missing (1: Yes, 0: No)\n",
        "df['Missing Interest'] = df['InitialInterestRate'].apply(lambda x: 0 if not pd.isnull(x) else 1)\n",
        "# drop interest rate column\n",
        "df = df.drop(columns = ['InitialInterestRate'])\n",
        "\n",
        "\n",
        "# One-hot encoding (4 columns): Sec. 504 - Loan Guarantees - Private Sector Financed, Sec. 504 - Delta loans, funded 9/26/95, Sec. 504 - Premier Certified Lender Program, 504 Refinance\n",
        "df = df.join(pd.get_dummies(df['subpgmdesc']))\n",
        "# rename columns of one-hot encoding\n",
        "df = df.rename(columns={'504 Refinance': 'Refinance', 'Sec. 504 - Delta loans, funded 9/26/95': 'Delta', 'Sec. 504 - Loan Guarantees - Private Sector Financed': 'Private Sector', 'Sec. 504 - Premier Certified Lender Program': 'Premier'})\n",
        "\n",
        "# One-hot encode business types: replace nan with \"MISSING\"\n",
        "df['BusinessType'] = df['BusinessType'].fillna(\"MISSING\")\n",
        "df = df.join(pd.get_dummies(df['BusinessType']))\n",
        "\n",
        "# drop remaining columns that include nan or useless values\n",
        "df = df.drop(columns = ['CDC_Zip'])\n"
      ],
      "metadata": {
        "id": "PAJkaUMezzr6"
      },
      "execution_count": 9,
      "outputs": []
    },
    {
      "cell_type": "code",
      "source": [
        "'''\n",
        "Adds data beyond those that were already provided\n",
        "'''\n",
        "\n",
        "# process SP500 yearly return\n",
        "df_SP500 = pd.read_csv('history.csv')\n",
        "df_SP500 = df_SP500.rename(columns = {'2023': 'Year', '26.29': 'Return'})\n",
        "yr, ret = np.array(df_SP500['Year']), np.array(df_SP500['Return'])\n",
        "ret_dict = defaultdict(float)\n",
        "for i,j in enumerate(yr):\n",
        "  ret_dict[j] = ret[i]\n",
        "# add return as a feature (year)\n",
        "df[\"SP500 YR\"] = df['ApprovalFiscalYear'].apply(lambda x: ret_dict[x])\n",
        "\n",
        "# process USA unemployment rate\n",
        "df_unemployment = pd.read_csv('us-national-unemployment-rate.csv', skiprows = 15)\n",
        "df_unemployment['date'] = df_unemployment['date'].apply(lambda x: int(x[:4]))\n",
        "yr, unemp = np.array(df_unemployment['date']), np.array(df_unemployment[' value'])\n",
        "unemp_dict = defaultdict(float)\n",
        "for i,j in enumerate(yr):\n",
        "  unemp_dict[j] = unemp[i]\n",
        "# add unemployment rate as feature (year)\n",
        "df['Unemployment YR'] = df['ApprovalFiscalYear'].apply(lambda x: unemp_dict[x])\n",
        "\n",
        "# process median home price for each year (average of all quarters)\n",
        "df_home = pd.read_csv('MSPUS.csv')\n",
        "df_home['DATE'] = df_home['DATE'].apply(lambda x: int(x[:4]))\n",
        "yr, price = np.array(df_home['DATE']), np.array(df_home['MSPUS'])\n",
        "home_dict = defaultdict(list)\n",
        "for i,j in enumerate(yr):\n",
        "  home_dict[j].append(price[i])\n",
        "# add year-before average home price as feature (year)\n",
        "df['Avg Home Price'] = df['ApprovalFiscalYear'].apply(lambda x: np.mean(home_dict[x]))\n",
        "\n",
        "# process USA gdp growth rate annual change\n",
        "df_gdp = pd.read_csv('united-states-gdp-growth-rate.csv', skiprows = 16)\n",
        "df_gdp['date'] = df_gdp['date'].apply(lambda x: int(x[:4]))\n",
        "yr, gdp = np.array(df_gdp['date']), np.array(df_gdp[' Annual Change'])\n",
        "gdp_dict = defaultdict(float)\n",
        "for i,j in enumerate(yr):\n",
        "  gdp_dict[j] = gdp[i]\n",
        "# add year-before gdp annual change as feature (year)\n",
        "df['GDP Delta YR'] = df['ApprovalFiscalYear'].apply(lambda x: gdp_dict[x])\n",
        "\n",
        "# drop the state with nan\n",
        "df = df.dropna(subset = [\"ProjectState\"])\n",
        "\n",
        "# get log(S&P500) price on the day of loan approval\n",
        "df_SP500_Price = pd.read_csv('^GSPC.csv')\n",
        "df_SP500_Price['Date'] = pd.to_datetime(df_SP500_Price['Date'], format='%Y-%m-%d')\n",
        "df['Log S&P Open'] = df['ApprovalDate'].apply(lambda x: np.log(list(df_SP500_Price.loc[df_SP500_Price['Date'] >= x]['Open'])[0]))\n",
        "\n",
        "# add state unemployment rate during the year of loan approval for borrower and project\n",
        "df_state_unemp = pd.read_excel('Unemployment_State.xlsx')\n",
        "df_state_unemp['DATE'] = df_state_unemp['DATE'].apply(lambda x: int(str(x)[:4]))\n",
        "df_state_unemp = df_state_unemp.set_index('DATE')\n",
        "yr,st_borr, st_proj = list(df['ApprovalFiscalYear']), list(df['BorrState']), list(df['ProjectState'])\n",
        "borr_st_unemp, proj_st_unemp = [], []\n",
        "for i,j in enumerate(yr):\n",
        "  borr_st_unemp.append(df_state_unemp.loc[j,st_borr[i]])\n",
        "  proj_st_unemp.append(df_state_unemp.loc[j,st_proj[i]])\n",
        "\n",
        "df = df.reset_index(drop=True)\n",
        "df['BorrState Unemployment'] = pd.Series(borr_st_unemp)\n",
        "df['ProjectState Unemployment'] = pd.Series(proj_st_unemp)\n",
        "\n",
        "\n",
        "# add personal income per capita in each state during the year of loan approval for borrower and project, as well as add missing indicators\n",
        "df_income = pd.read_excel('Personal Income Per Capita by State.xlsx')\n",
        "df_income = df_income.set_index('State')\n",
        "yr,st_borr, st_proj = list(df['ApprovalFiscalYear']), list(df['BorrState']), list(df['ProjectState'])\n",
        "borr_st_inc, proj_st_inc = [], []\n",
        "for i,j in enumerate(yr):\n",
        "  borr_st_inc.append(df_income.loc[st_borr[i], j])\n",
        "  proj_st_inc.append(df_income.loc[st_proj[i], j])\n",
        "df['BorrState Income'] = pd.Series(borr_st_inc)\n",
        "df['ProjState Income'] = pd.Series(proj_st_inc)\n",
        "\n",
        "df['Missing Borr Income'] = df['BorrState Income'].apply(lambda x: 0 if not pd.isnull(x) else 1)\n",
        "df['Missing Proj Income'] = df['ProjState Income'].apply(lambda x: 0 if not pd.isnull(x) else 1)\n",
        "df['BorrState Income'] = df['BorrState Income'].fillna(0)\n",
        "df['ProjState Income'] = df['ProjState Income'].fillna(0)\n",
        "\n",
        "# add GDP by State After 1998\n",
        "df_stGDP = pd.read_excel('GDP by State After 1998.xlsx')\n",
        "df_stGDP  = df_stGDP.set_index('State')\n",
        "yr,st_borr, st_proj = list(df['ApprovalFiscalYear']), list(df['BorrState']), list(df['ProjectState'])\n",
        "borr_st_gdp, proj_st_gdp = [], []\n",
        "for i,j in enumerate(yr):\n",
        "  borr_st_gdp.append(df_stGDP.loc[st_borr[i], j])\n",
        "  proj_st_gdp.append(df_stGDP.loc[st_proj[i], j])\n",
        "df['BorrState GDP'] = pd.Series(borr_st_gdp)\n",
        "df['ProjState GDP'] = pd.Series(proj_st_gdp)\n",
        "\n",
        "df['Missing Borr GDP'] = df['BorrState GDP'].apply(lambda x: 0 if not pd.isnull(x) else 1)\n",
        "df['Missing Proj GDP'] = df['ProjState GDP'].apply(lambda x: 0 if not pd.isnull(x) else 1)\n",
        "df['BorrState GDP'] = df['BorrState GDP'].fillna(0)\n",
        "df['ProjState GDP'] = df['ProjState GDP'].fillna(0)\n",
        "\n",
        "\n",
        "# add housing vacancy rate by state during the year\n",
        "df_state_vac = pd.read_excel('Vacancy Rate.xlsx')\n",
        "df_state_vac['Date'] = df_state_vac['Date'].apply(lambda x: int(str(x)[:4]))\n",
        "df_state_vac = df_state_vac.set_index('Date')\n",
        "yr,st_borr, st_proj = list(df['ApprovalFiscalYear']), list(df['BorrState']), list(df['ProjectState'])\n",
        "borr_st_vac, proj_st_vac = [], []\n",
        "for i,j in enumerate(yr):\n",
        "  borr_st_vac.append(df_state_vac.loc[j,st_borr[i]])\n",
        "  proj_st_vac.append(df_state_vac.loc[j,st_proj[i]])\n",
        "\n",
        "df = df.reset_index(drop=True)\n",
        "df['BorrState Vacancy'] = pd.Series(borr_st_vac)\n",
        "df['ProjectState Vacancy'] = pd.Series(proj_st_vac)"
      ],
      "metadata": {
        "id": "rOMWbIumYOaf"
      },
      "execution_count": 10,
      "outputs": []
    },
    {
      "cell_type": "code",
      "source": [
        "# random split for train and test sets: 0.8-0.2 split\n",
        "df_test = df.sample(frac=0.2, random_state=1)\n",
        "df_train = df.drop(df_test.index)\n",
        "\n",
        "df_test.to_csv('df_test.csv')\n",
        "files.download('df_test.csv')\n",
        "\n",
        "df_train.to_csv('df_train.csv')\n",
        "files.download('df_train.csv')"
      ],
      "metadata": {
        "colab": {
          "base_uri": "https://localhost:8080/",
          "height": 17
        },
        "id": "gtmbH7Tqk87t",
        "outputId": "a22fff36-bc70-4649-c220-9cfdc8b90c21"
      },
      "execution_count": 12,
      "outputs": [
        {
          "output_type": "display_data",
          "data": {
            "text/plain": [
              "<IPython.core.display.Javascript object>"
            ],
            "application/javascript": [
              "\n",
              "    async function download(id, filename, size) {\n",
              "      if (!google.colab.kernel.accessAllowed) {\n",
              "        return;\n",
              "      }\n",
              "      const div = document.createElement('div');\n",
              "      const label = document.createElement('label');\n",
              "      label.textContent = `Downloading \"${filename}\": `;\n",
              "      div.appendChild(label);\n",
              "      const progress = document.createElement('progress');\n",
              "      progress.max = size;\n",
              "      div.appendChild(progress);\n",
              "      document.body.appendChild(div);\n",
              "\n",
              "      const buffers = [];\n",
              "      let downloaded = 0;\n",
              "\n",
              "      const channel = await google.colab.kernel.comms.open(id);\n",
              "      // Send a message to notify the kernel that we're ready.\n",
              "      channel.send({})\n",
              "\n",
              "      for await (const message of channel.messages) {\n",
              "        // Send a message to notify the kernel that we're ready.\n",
              "        channel.send({})\n",
              "        if (message.buffers) {\n",
              "          for (const buffer of message.buffers) {\n",
              "            buffers.push(buffer);\n",
              "            downloaded += buffer.byteLength;\n",
              "            progress.value = downloaded;\n",
              "          }\n",
              "        }\n",
              "      }\n",
              "      const blob = new Blob(buffers, {type: 'application/binary'});\n",
              "      const a = document.createElement('a');\n",
              "      a.href = window.URL.createObjectURL(blob);\n",
              "      a.download = filename;\n",
              "      div.appendChild(a);\n",
              "      a.click();\n",
              "      div.remove();\n",
              "    }\n",
              "  "
            ]
          },
          "metadata": {}
        },
        {
          "output_type": "display_data",
          "data": {
            "text/plain": [
              "<IPython.core.display.Javascript object>"
            ],
            "application/javascript": [
              "download(\"download_45fa1cab-1628-4411-9fbb-85d67ca66755\", \"df_test.csv\", 2815634)"
            ]
          },
          "metadata": {}
        },
        {
          "output_type": "display_data",
          "data": {
            "text/plain": [
              "<IPython.core.display.Javascript object>"
            ],
            "application/javascript": [
              "\n",
              "    async function download(id, filename, size) {\n",
              "      if (!google.colab.kernel.accessAllowed) {\n",
              "        return;\n",
              "      }\n",
              "      const div = document.createElement('div');\n",
              "      const label = document.createElement('label');\n",
              "      label.textContent = `Downloading \"${filename}\": `;\n",
              "      div.appendChild(label);\n",
              "      const progress = document.createElement('progress');\n",
              "      progress.max = size;\n",
              "      div.appendChild(progress);\n",
              "      document.body.appendChild(div);\n",
              "\n",
              "      const buffers = [];\n",
              "      let downloaded = 0;\n",
              "\n",
              "      const channel = await google.colab.kernel.comms.open(id);\n",
              "      // Send a message to notify the kernel that we're ready.\n",
              "      channel.send({})\n",
              "\n",
              "      for await (const message of channel.messages) {\n",
              "        // Send a message to notify the kernel that we're ready.\n",
              "        channel.send({})\n",
              "        if (message.buffers) {\n",
              "          for (const buffer of message.buffers) {\n",
              "            buffers.push(buffer);\n",
              "            downloaded += buffer.byteLength;\n",
              "            progress.value = downloaded;\n",
              "          }\n",
              "        }\n",
              "      }\n",
              "      const blob = new Blob(buffers, {type: 'application/binary'});\n",
              "      const a = document.createElement('a');\n",
              "      a.href = window.URL.createObjectURL(blob);\n",
              "      a.download = filename;\n",
              "      div.appendChild(a);\n",
              "      a.click();\n",
              "      div.remove();\n",
              "    }\n",
              "  "
            ]
          },
          "metadata": {}
        },
        {
          "output_type": "display_data",
          "data": {
            "text/plain": [
              "<IPython.core.display.Javascript object>"
            ],
            "application/javascript": [
              "download(\"download_d08569a4-1dce-4f71-83b5-56d680df67ec\", \"df_train.csv\", 11271144)"
            ]
          },
          "metadata": {}
        }
      ]
    }
  ]
}